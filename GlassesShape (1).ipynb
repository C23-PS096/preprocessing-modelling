{
  "cells": [
    {
      "cell_type": "code",
      "execution_count": null,
      "metadata": {
        "id": "pQ_ZoLm2yiDb"
      },
      "outputs": [],
      "source": [
        "import tensorflow as tf\n",
        "import pandas as pd\n",
        "import numpy as np \n",
        "import matplotlib.pyplot as plt\n",
        "import csv\n",
        "import os\n",
        "from os import path\n",
        "from tensorflow.keras.preprocessing.image import ImageDataGenerator\n",
        "from tensorflow.keras.utils import img_to_array, load_img\n",
        "import cv2\n",
        "from PIL import Image\n",
        "from PIL import Image as im"
      ]
    },
    {
      "cell_type": "code",
      "execution_count": null,
      "metadata": {
        "colab": {
          "base_uri": "https://localhost:8080/"
        },
        "id": "Su9TgS0DyoKB",
        "outputId": "d0a5b14f-51ea-43fc-9f54-94de42fb12a0"
      },
      "outputs": [
        {
          "output_type": "stream",
          "name": "stdout",
          "text": [
            "2.12.0\n"
          ]
        }
      ],
      "source": [
        "print(tf.__version__)"
      ]
    },
    {
      "cell_type": "markdown",
      "metadata": {
        "id": "_xnqdpbZzHuJ"
      },
      "source": [
        "# **Directory Preparation**"
      ]
    },
    {
      "cell_type": "code",
      "execution_count": null,
      "metadata": {
        "colab": {
          "base_uri": "https://localhost:8080/"
        },
        "id": "SnV-QUrlyywR",
        "outputId": "1a10e2cc-8d05-446c-efd6-f3f6bde51875"
      },
      "outputs": [
        {
          "output_type": "stream",
          "name": "stdout",
          "text": [
            "Mounted at /content/drive\n"
          ]
        }
      ],
      "source": [
        "from google.colab import drive\n",
        "drive.mount('/content/drive')"
      ]
    },
    {
      "cell_type": "code",
      "execution_count": null,
      "metadata": {
        "id": "nBuCudp1zQKJ"
      },
      "outputs": [],
      "source": [
        "#Original Image Data Directory\n",
        "data_dir = \"/content/drive/MyDrive/EyeGlasses Dataset\"\n",
        "train_dir = path.join(data_dir, 'training_set')\n",
        "test_dir = path.join(data_dir, 'testing_set')"
      ]
    },
    {
      "cell_type": "code",
      "execution_count": null,
      "metadata": {
        "id": "H701vYxx8pK-"
      },
      "outputs": [],
      "source": [
        "class_names = os.listdir(train_dir)"
      ]
    },
    {
      "cell_type": "code",
      "execution_count": null,
      "metadata": {
        "id": "cAfkcmCc8rHm"
      },
      "outputs": [],
      "source": [
        "train_round_dir = os.path.join(train_dir, 'round')\n",
        "train_rectangle_dir = os.path.join(train_dir, 'rectangle')\n",
        "train_square_dir = os.path.join(train_dir, 'square')\n",
        "train_oval_dir = os.path.join(train_dir, 'oval')\n",
        "\n",
        "test_round_dir = os.path.join(test_dir, 'round')\n",
        "test_rectangle_dir = os.path.join(test_dir, 'rectangle')\n",
        "test_square_dir = os.path.join(test_dir, 'square')\n",
        "test_oval_dir = os.path.join(test_dir, 'oval')"
      ]
    },
    {
      "cell_type": "code",
      "execution_count": null,
      "metadata": {
        "colab": {
          "base_uri": "https://localhost:8080/"
        },
        "id": "ygRce2yA8ttM",
        "outputId": "b610bdc8-0567-4a82-845e-8be06c55ce81"
      },
      "outputs": [
        {
          "output_type": "stream",
          "name": "stdout",
          "text": [
            "{'oval': 0, 'rectangle': 1, 'round': 2, 'square': 3}\n"
          ]
        }
      ],
      "source": [
        "#Label Encoding for each classes\n",
        "class_name_encoded = { label: index for index, label in enumerate(class_names) }\n",
        "print(class_name_encoded)"
      ]
    },
    {
      "cell_type": "code",
      "execution_count": null,
      "metadata": {
        "colab": {
          "base_uri": "https://localhost:8080/"
        },
        "id": "q4RU0ZFN8vOD",
        "outputId": "41211771-4863-4383-9573-63dd26de65e2"
      },
      "outputs": [
        {
          "output_type": "stream",
          "name": "stdout",
          "text": [
            "Found 2240 images belonging to 4 classes.\n",
            "Found 560 images belonging to 4 classes.\n"
          ]
        }
      ],
      "source": [
        "#Image Data Generator for Training Cropped Image Data\n",
        "train_datagen = ImageDataGenerator(rescale=1/.255)\n",
        "\n",
        "train_generator = train_datagen.flow_from_directory(directory=train_dir,\n",
        "                                                    batch_size=20,\n",
        "                                                    class_mode='categorical',\n",
        "                                                    target_size=(325, 650))\n",
        "\n",
        "#Image Data Generator for Testing Cropped Image Data (using original test image data)\n",
        "test_datagen = ImageDataGenerator(rescale=1/.255)\n",
        "\n",
        "test_generator = test_datagen.flow_from_directory(directory=test_dir,\n",
        "                                                    batch_size=20,\n",
        "                                                    class_mode='categorical',\n",
        "                                                    target_size=(325, 650))"
      ]
    },
    {
      "cell_type": "markdown",
      "metadata": {
        "id": "l6hAzK5N8zZL"
      },
      "source": [
        "# Image Preprocessing"
      ]
    },
    {
      "cell_type": "code",
      "execution_count": null,
      "metadata": {
        "colab": {
          "base_uri": "https://localhost:8080/",
          "height": 483
        },
        "id": "xbXB1-n0fE02",
        "outputId": "cd837fc6-f5ee-4394-dc9d-dc850e3cc110"
      },
      "outputs": [
        {
          "name": "stdout",
          "output_type": "stream",
          "text": [
            "<PIL.JpegImagePlugin.JpegImageFile image mode=RGB size=650x325 at 0x7F667CF8B700> image_1.jpg\n",
            "<PIL.JpegImagePlugin.JpegImageFile image mode=RGB size=650x325 at 0x7F65DED1AB00> image_2.jpg\n",
            "<PIL.JpegImagePlugin.JpegImageFile image mode=RGB size=650x325 at 0x7F65DED1ABC0> image_3.jpg\n",
            "<PIL.JpegImagePlugin.JpegImageFile image mode=RGB size=650x325 at 0x7F65DED1A980> image_4.jpg\n",
            "<PIL.JpegImagePlugin.JpegImageFile image mode=RGB size=650x325 at 0x7F65DED1AB00> image_5.jpg\n",
            "<PIL.JpegImagePlugin.JpegImageFile image mode=RGB size=650x325 at 0x7F65DED1AB60> image_6.jpg\n",
            "<PIL.JpegImagePlugin.JpegImageFile image mode=RGB size=650x325 at 0x7F65DED1AA40> image_7.jpg\n",
            "<PIL.JpegImagePlugin.JpegImageFile image mode=RGB size=650x325 at 0x7F667CF8B670> image_8.jpg\n",
            "<PIL.JpegImagePlugin.JpegImageFile image mode=RGB size=650x325 at 0x7F65DED1AAA0> image_9.jpg\n",
            "<PIL.JpegImagePlugin.JpegImageFile image mode=RGB size=650x325 at 0x7F65DED1AC50> image_10.jpg\n"
          ]
        },
        {
          "data": {
            "image/png": "[encoded data removed]",
            "text/plain": [
              "<Figure size 600x600 with 1 Axes>"
            ]
          },
          "metadata": {},
          "output_type": "display_data"
        }
      ],
      "source": [
        "#Loads image in from the set image path\n",
        "counter = 1\n",
        "\n",
        "while (counter<11):\n",
        "  filename = \"image_\" + str(counter) + \".jpg\"\n",
        "  sample = os.path.join(train_rectangle_dir, filename)\n",
        "  img = tf.keras.preprocessing.image.load_img(sample)\n",
        "  print(img, filename)\n",
        "  counter+=1\n",
        "\n",
        "sample = os.path.join(train_rectangle_dir, 'image_10.jpg')\n",
        "img = tf.keras.preprocessing.image.load_img(sample)\n",
        "img_tensor = tf.keras.preprocessing.image.img_to_array(img)\n",
        "img_tensor = np.expand_dims(img_tensor, axis=0)\n",
        "\n",
        "\n",
        "# import cv2\n",
        "# image = cv2.imread(sample)\n",
        "# print(image.shape)\n",
        "\n",
        "#Allows us to properly visualize our image by rescaling values in array\n",
        "img_tensor /= 255.\n",
        "\n",
        "#Plots image\n",
        "plt.figure(figsize=(6,6))\n",
        "plt.imshow(img_tensor[0])\n",
        "plt.show()"
      ]
    },
    {
      "cell_type": "markdown",
      "metadata": {
        "id": "21xpwe1p80bY"
      },
      "source": [
        "# Modelling"
      ]
    },
    {
      "cell_type": "code",
      "execution_count": null,
      "metadata": {
        "id": "RAbCEuQRe7gz"
      },
      "outputs": [],
      "source": [
        "from tensorflow.keras.optimizers import RMSprop\n",
        "# GRADED FUNCTION: create_model\n",
        "def create_model():\n",
        "  # DEFINE A KERAS MODEL TO CLASSIFY FACE SHAPES\n",
        "  model = tf.keras.models.Sequential([ \n",
        "            tf.keras.layers.Conv2D(16, (3,3), activation='relu', input_shape=(325, 650, 3)),\n",
        "            tf.keras.layers.MaxPooling2D(2,2),\n",
        "            tf.keras.layers.Conv2D(32, (3,3), activation='relu'),\n",
        "            tf.keras.layers.MaxPooling2D(2,2), \n",
        "            tf.keras.layers.Conv2D(64, (3,3), activation='relu'), \n",
        "            tf.keras.layers.MaxPooling2D(2,2),\n",
        "            tf.keras.layers.Conv2D(128, (3,3), activation='relu'), \n",
        "            tf.keras.layers.MaxPooling2D(2,2), \n",
        "            # Flatten the results to feed into a DNN\n",
        "            tf.keras.layers.Flatten(), \n",
        "            # 512 neuron hidden layer\n",
        "            tf.keras.layers.Dense(512, activation='relu'), \n",
        "            # 128 neuron hidden layer\n",
        "            tf.keras.layers.Dense(128, activation='relu'),\n",
        "            # 32 neuron hidden layer\n",
        "            tf.keras.layers.Dense(32, activation='relu'),\n",
        "            tf.keras.layers.Dense(4, activation='softmax')\n",
        "          ])\n",
        "  \n",
        "  #Compile model\n",
        "  model.compile(optimizer=RMSprop(learning_rate=0.001),\n",
        "                loss='categorical_crossentropy',\n",
        "                metrics=['accuracy']) \n",
        "\n",
        "  return model #return model"
      ]
    },
    {
      "cell_type": "code",
      "execution_count": null,
      "metadata": {
        "colab": {
          "base_uri": "https://localhost:8080/"
        },
        "id": "XDLLOmhgqO2y",
        "outputId": "f3928da5-61ae-4673-c4c1-b6a6a622b207"
      },
      "outputs": [
        {
          "name": "stdout",
          "output_type": "stream",
          "text": [
            "Model: \"sequential_1\"\n",
            "_________________________________________________________________\n",
            " Layer (type)                Output Shape              Param #   \n",
            "=================================================================\n",
            " conv2d_4 (Conv2D)           (None, 323, 648, 16)      448       \n",
            "                                                                 \n",
            " max_pooling2d_4 (MaxPooling  (None, 161, 324, 16)     0         \n",
            " 2D)                                                             \n",
            "                                                                 \n",
            " conv2d_5 (Conv2D)           (None, 159, 322, 32)      4640      \n",
            "                                                                 \n",
            " max_pooling2d_5 (MaxPooling  (None, 79, 161, 32)      0         \n",
            " 2D)                                                             \n",
            "                                                                 \n",
            " conv2d_6 (Conv2D)           (None, 77, 159, 64)       18496     \n",
            "                                                                 \n",
            " max_pooling2d_6 (MaxPooling  (None, 38, 79, 64)       0         \n",
            " 2D)                                                             \n",
            "                                                                 \n",
            " conv2d_7 (Conv2D)           (None, 36, 77, 128)       73856     \n",
            "                                                                 \n",
            " max_pooling2d_7 (MaxPooling  (None, 18, 38, 128)      0         \n",
            " 2D)                                                             \n",
            "                                                                 \n",
            " flatten_1 (Flatten)         (None, 87552)             0         \n",
            "                                                                 \n",
            " dense_4 (Dense)             (None, 512)               44827136  \n",
            "                                                                 \n",
            " dense_5 (Dense)             (None, 128)               65664     \n",
            "                                                                 \n",
            " dense_6 (Dense)             (None, 32)                4128      \n",
            "                                                                 \n",
            " dense_7 (Dense)             (None, 4)                 132       \n",
            "                                                                 \n",
            "=================================================================\n",
            "Total params: 44,994,500\n",
            "Trainable params: 44,994,500\n",
            "Non-trainable params: 0\n",
            "_________________________________________________________________\n"
          ]
        }
      ],
      "source": [
        "model = create_model()\n",
        "model.summary()"
      ]
    },
    {
      "cell_type": "code",
      "execution_count": null,
      "metadata": {
        "colab": {
          "base_uri": "https://localhost:8080/"
        },
        "id": "FlnkUwyIggks",
        "outputId": "07653997-12ab-4c8d-fcd4-dbc912e0623a"
      },
      "outputs": [
        {
          "name": "stdout",
          "output_type": "stream",
          "text": [
            "Epoch 1/15\n",
            "112/112 [==============================] - 908s 8s/step - loss: 136.4990 - accuracy: 0.5009 - val_loss: 1.2772 - val_accuracy: 0.4536\n",
            "Epoch 2/15\n",
            "112/112 [==============================] - 760s 7s/step - loss: 8.6332 - accuracy: 0.4826 - val_loss: 1.3616 - val_accuracy: 0.4518\n",
            "Epoch 3/15\n",
            "112/112 [==============================] - 757s 7s/step - loss: 1.5255 - accuracy: 0.6125 - val_loss: 0.8750 - val_accuracy: 0.6232\n",
            "Epoch 4/15\n",
            "112/112 [==============================] - 724s 6s/step - loss: 1.1947 - accuracy: 0.6915 - val_loss: 2.0865 - val_accuracy: 0.3464\n",
            "Epoch 5/15\n",
            "112/112 [==============================] - 757s 7s/step - loss: 0.5933 - accuracy: 0.7714 - val_loss: 1.5432 - val_accuracy: 0.6214\n",
            "Epoch 6/15\n",
            "112/112 [==============================] - 754s 7s/step - loss: 0.5911 - accuracy: 0.8107 - val_loss: 1.1082 - val_accuracy: 0.6482\n",
            "Epoch 7/15\n",
            "112/112 [==============================] - 752s 7s/step - loss: 0.4855 - accuracy: 0.8393 - val_loss: 1.2859 - val_accuracy: 0.5857\n",
            "Epoch 8/15\n",
            "102/112 [==========================>...] - ETA: 59s - loss: 0.3479 - accuracy: 0.8912 "
          ]
        }
      ],
      "source": [
        "# from PIL import ImageFile\n",
        "model = create_model()\n",
        "# ImageFile.LOAD_TRUNCATED_IMAGES = True\n",
        "# Train the model\n",
        "# Note that this may take some time.\n",
        "history = model.fit(train_generator,\n",
        "                    epochs=15,\n",
        "                    verbose=1,\n",
        "                    validation_data=test_generator)"
      ]
    },
    {
      "cell_type": "markdown",
      "metadata": {
        "id": "eb0LIodzw78K"
      },
      "source": [
        "# Transfer Learning"
      ]
    },
    {
      "cell_type": "code",
      "execution_count": null,
      "metadata": {
        "colab": {
          "base_uri": "https://localhost:8080/"
        },
        "id": "Si1Qf9gDw7bn",
        "outputId": "6a28c488-68ab-49bc-8f7c-b68c3c60e6b8"
      },
      "outputs": [
        {
          "name": "stderr",
          "output_type": "stream",
          "text": [
            "WARNING:tensorflow:`input_shape` is undefined or non-square, or `rows` is not in [128, 160, 192, 224]. Weights for input shape (224, 224) will be loaded as the default.\n"
          ]
        },
        {
          "name": "stdout",
          "output_type": "stream",
          "text": [
            "Downloading data from https://storage.googleapis.com/tensorflow/keras-applications/mobilenet/mobilenet_1_0_224_tf_no_top.h5\n",
            "17225924/17225924 [==============================] - 0s 0us/step\n"
          ]
        }
      ],
      "source": [
        "# MobileNet\n",
        "base_model=tf.keras.applications.MobileNet(weights='imagenet',include_top=False) #imports the mobilenet model and discards the last 1000 neuron layer.\n",
        "\n",
        "x=base_model.output\n",
        "x=tf.keras.layers.GlobalAveragePooling2D()(x)\n",
        "x=tf.keras.layers.Dense(1024,activation='relu')(x) #we add dense layers so that the model can learn more complex functions and classify for better results.\n",
        "x=tf.keras.layers.Dense(1024,activation='relu')(x) #dense layer 2\n",
        "x=tf.keras.layers.Dense(512,activation='relu')(x) #dense layer 3\n",
        "preds=tf.keras.layers.Dense(4,activation='softmax')(x) #final layer with softmax activation"
      ]
    },
    {
      "cell_type": "code",
      "execution_count": null,
      "metadata": {
        "id": "k9SpBytWz-Xn"
      },
      "outputs": [],
      "source": [
        "model=tf.keras.models.Model(inputs=base_model.input,outputs=preds)"
      ]
    },
    {
      "cell_type": "code",
      "execution_count": null,
      "metadata": {
        "colab": {
          "base_uri": "https://localhost:8080/"
        },
        "id": "O_gG6obA0JBW",
        "outputId": "3abcc28f-6726-4a15-eaaf-e5166d2fd5ec"
      },
      "outputs": [
        {
          "name": "stdout",
          "output_type": "stream",
          "text": [
            "0 input_1\n",
            "1 conv1\n",
            "2 conv1_bn\n",
            "3 conv1_relu\n",
            "4 conv_dw_1\n",
            "5 conv_dw_1_bn\n",
            "6 conv_dw_1_relu\n",
            "7 conv_pw_1\n",
            "8 conv_pw_1_bn\n",
            "9 conv_pw_1_relu\n",
            "10 conv_pad_2\n",
            "11 conv_dw_2\n",
            "12 conv_dw_2_bn\n",
            "13 conv_dw_2_relu\n",
            "14 conv_pw_2\n",
            "15 conv_pw_2_bn\n",
            "16 conv_pw_2_relu\n",
            "17 conv_dw_3\n",
            "18 conv_dw_3_bn\n",
            "19 conv_dw_3_relu\n",
            "20 conv_pw_3\n",
            "21 conv_pw_3_bn\n",
            "22 conv_pw_3_relu\n",
            "23 conv_pad_4\n",
            "24 conv_dw_4\n",
            "25 conv_dw_4_bn\n",
            "26 conv_dw_4_relu\n",
            "27 conv_pw_4\n",
            "28 conv_pw_4_bn\n",
            "29 conv_pw_4_relu\n",
            "30 conv_dw_5\n",
            "31 conv_dw_5_bn\n",
            "32 conv_dw_5_relu\n",
            "33 conv_pw_5\n",
            "34 conv_pw_5_bn\n",
            "35 conv_pw_5_relu\n",
            "36 conv_pad_6\n",
            "37 conv_dw_6\n",
            "38 conv_dw_6_bn\n",
            "39 conv_dw_6_relu\n",
            "40 conv_pw_6\n",
            "41 conv_pw_6_bn\n",
            "42 conv_pw_6_relu\n",
            "43 conv_dw_7\n",
            "44 conv_dw_7_bn\n",
            "45 conv_dw_7_relu\n",
            "46 conv_pw_7\n",
            "47 conv_pw_7_bn\n",
            "48 conv_pw_7_relu\n",
            "49 conv_dw_8\n",
            "50 conv_dw_8_bn\n",
            "51 conv_dw_8_relu\n",
            "52 conv_pw_8\n",
            "53 conv_pw_8_bn\n",
            "54 conv_pw_8_relu\n",
            "55 conv_dw_9\n",
            "56 conv_dw_9_bn\n",
            "57 conv_dw_9_relu\n",
            "58 conv_pw_9\n",
            "59 conv_pw_9_bn\n",
            "60 conv_pw_9_relu\n",
            "61 conv_dw_10\n",
            "62 conv_dw_10_bn\n",
            "63 conv_dw_10_relu\n",
            "64 conv_pw_10\n",
            "65 conv_pw_10_bn\n",
            "66 conv_pw_10_relu\n",
            "67 conv_dw_11\n",
            "68 conv_dw_11_bn\n",
            "69 conv_dw_11_relu\n",
            "70 conv_pw_11\n",
            "71 conv_pw_11_bn\n",
            "72 conv_pw_11_relu\n",
            "73 conv_pad_12\n",
            "74 conv_dw_12\n",
            "75 conv_dw_12_bn\n",
            "76 conv_dw_12_relu\n",
            "77 conv_pw_12\n",
            "78 conv_pw_12_bn\n",
            "79 conv_pw_12_relu\n",
            "80 conv_dw_13\n",
            "81 conv_dw_13_bn\n",
            "82 conv_dw_13_relu\n",
            "83 conv_pw_13\n",
            "84 conv_pw_13_bn\n",
            "85 conv_pw_13_relu\n",
            "86 global_average_pooling2d\n",
            "87 dense\n",
            "88 dense_1\n",
            "89 dense_2\n",
            "90 dense_3\n"
          ]
        }
      ],
      "source": [
        "# Print out the model architecture\n",
        "for i,layer in enumerate(model.layers):\n",
        "  print(i,layer.name)"
      ]
    },
    {
      "cell_type": "code",
      "execution_count": null,
      "metadata": {
        "id": "MwN6xGHw0UXq"
      },
      "outputs": [],
      "source": [
        "for layer in model.layers:\n",
        "    layer.trainable=False\n",
        "for layer in model.layers[20:]:\n",
        "    layer.trainable=True"
      ]
    },
    {
      "cell_type": "code",
      "execution_count": null,
      "metadata": {
        "id": "7W876_EiDm_X"
      },
      "outputs": [],
      "source": [
        "from tensorflow.keras.optimizers import RMSprop\n",
        "model.compile(optimizer=RMSprop(learning_rate=0.001),\n",
        "                loss='categorical_crossentropy',\n",
        "                metrics=['accuracy']) "
      ]
    },
    {
      "cell_type": "code",
      "execution_count": null,
      "metadata": {
        "colab": {
          "base_uri": "https://localhost:8080/"
        },
        "id": "eXZhfeMvEz-v",
        "outputId": "f8ef5fc0-d009-4dad-cb6b-464225cd1947"
      },
      "outputs": [
        {
          "name": "stdout",
          "output_type": "stream",
          "text": [
            "Epoch 1/15\n",
            "112/112 [==============================] - 598s 5s/step - loss: 1.0166 - accuracy: 0.6103 - val_loss: 2.6039 - val_accuracy: 0.4036\n",
            "Epoch 2/15\n",
            "112/112 [==============================] - 30s 270ms/step - loss: 0.5076 - accuracy: 0.8103 - val_loss: 6.7074 - val_accuracy: 0.2768\n",
            "Epoch 3/15\n",
            "112/112 [==============================] - 30s 269ms/step - loss: 0.3801 - accuracy: 0.8629 - val_loss: 1.5381 - val_accuracy: 0.5732\n",
            "Epoch 4/15\n",
            "112/112 [==============================] - 30s 270ms/step - loss: 0.3216 - accuracy: 0.8728 - val_loss: 2.1470 - val_accuracy: 0.5571\n",
            "Epoch 5/15\n",
            "112/112 [==============================] - 31s 280ms/step - loss: 0.3087 - accuracy: 0.8808 - val_loss: 0.9749 - val_accuracy: 0.7500\n",
            "Epoch 6/15\n",
            "112/112 [==============================] - 33s 290ms/step - loss: 0.2593 - accuracy: 0.8982 - val_loss: 0.8066 - val_accuracy: 0.7679\n",
            "Epoch 7/15\n",
            "112/112 [==============================] - 31s 278ms/step - loss: 0.2308 - accuracy: 0.9205 - val_loss: 0.7431 - val_accuracy: 0.7536\n",
            "Epoch 8/15\n",
            "112/112 [==============================] - 31s 280ms/step - loss: 0.1958 - accuracy: 0.9308 - val_loss: 0.6326 - val_accuracy: 0.7750\n",
            "Epoch 9/15\n",
            "112/112 [==============================] - 30s 269ms/step - loss: 0.1518 - accuracy: 0.9451 - val_loss: 0.6208 - val_accuracy: 0.8143\n",
            "Epoch 10/15\n",
            "112/112 [==============================] - 30s 270ms/step - loss: 0.1367 - accuracy: 0.9531 - val_loss: 1.0010 - val_accuracy: 0.6946\n",
            "Epoch 11/15\n",
            "112/112 [==============================] - 32s 286ms/step - loss: 0.1133 - accuracy: 0.9558 - val_loss: 4.1962 - val_accuracy: 0.4000\n",
            "Epoch 12/15\n",
            "112/112 [==============================] - 30s 268ms/step - loss: 0.1002 - accuracy: 0.9643 - val_loss: 0.9786 - val_accuracy: 0.7286\n",
            "Epoch 13/15\n",
            "112/112 [==============================] - 36s 323ms/step - loss: 0.1379 - accuracy: 0.9643 - val_loss: 1.0537 - val_accuracy: 0.7732\n",
            "Epoch 14/15\n",
            "112/112 [==============================] - 31s 272ms/step - loss: 0.1176 - accuracy: 0.9638 - val_loss: 0.7196 - val_accuracy: 0.7804\n",
            "Epoch 15/15\n",
            "112/112 [==============================] - 31s 272ms/step - loss: 0.1444 - accuracy: 0.9710 - val_loss: 1.2987 - val_accuracy: 0.6893\n"
          ]
        }
      ],
      "source": [
        "history = model.fit(train_generator,\n",
        "                    epochs=15,\n",
        "                    verbose=1,\n",
        "                    validation_data=test_generator)"
      ]
    },
    {
      "cell_type": "code",
      "execution_count": null,
      "metadata": {
        "id": "8ZyeZcA-5Llf"
      },
      "outputs": [],
      "source": [
        "path = \"/content/drive/MyDrive/Models/Glasses/\"\n",
        "filename = 'model.h5'\n",
        "model.save(path + filename)"
      ]
    },
    {
      "cell_type": "code",
      "execution_count": null,
      "metadata": {
        "colab": {
          "base_uri": "https://localhost:8080/"
        },
        "id": "sCAAnSmXM0gM",
        "outputId": "63b14715-4990-4573-e2f7-75f60bdd48c3"
      },
      "outputs": [
        {
          "name": "stderr",
          "output_type": "stream",
          "text": [
            "WARNING:tensorflow:`input_shape` is undefined or non-square, or `rows` is not in [96, 128, 160, 192, 224]. Weights for input shape (224, 224) will be loaded as the default.\n"
          ]
        },
        {
          "name": "stdout",
          "output_type": "stream",
          "text": [
            "Downloading data from https://storage.googleapis.com/tensorflow/keras-applications/mobilenet_v2/mobilenet_v2_weights_tf_dim_ordering_tf_kernels_1.0_224_no_top.h5\n",
            "9406464/9406464 [==============================] - 0s 0us/step\n",
            "0 input_2\n",
            "1 Conv1\n",
            "2 bn_Conv1\n",
            "3 Conv1_relu\n",
            "4 expanded_conv_depthwise\n",
            "5 expanded_conv_depthwise_BN\n",
            "6 expanded_conv_depthwise_relu\n",
            "7 expanded_conv_project\n",
            "8 expanded_conv_project_BN\n",
            "9 block_1_expand\n",
            "10 block_1_expand_BN\n",
            "11 block_1_expand_relu\n",
            "12 block_1_pad\n",
            "13 block_1_depthwise\n",
            "14 block_1_depthwise_BN\n",
            "15 block_1_depthwise_relu\n",
            "16 block_1_project\n",
            "17 block_1_project_BN\n",
            "18 block_2_expand\n",
            "19 block_2_expand_BN\n",
            "20 block_2_expand_relu\n",
            "21 block_2_depthwise\n",
            "22 block_2_depthwise_BN\n",
            "23 block_2_depthwise_relu\n",
            "24 block_2_project\n",
            "25 block_2_project_BN\n",
            "26 block_2_add\n",
            "27 block_3_expand\n",
            "28 block_3_expand_BN\n",
            "29 block_3_expand_relu\n",
            "30 block_3_pad\n",
            "31 block_3_depthwise\n",
            "32 block_3_depthwise_BN\n",
            "33 block_3_depthwise_relu\n",
            "34 block_3_project\n",
            "35 block_3_project_BN\n",
            "36 block_4_expand\n",
            "37 block_4_expand_BN\n",
            "38 block_4_expand_relu\n",
            "39 block_4_depthwise\n",
            "40 block_4_depthwise_BN\n",
            "41 block_4_depthwise_relu\n",
            "42 block_4_project\n",
            "43 block_4_project_BN\n",
            "44 block_4_add\n",
            "45 block_5_expand\n",
            "46 block_5_expand_BN\n",
            "47 block_5_expand_relu\n",
            "48 block_5_depthwise\n",
            "49 block_5_depthwise_BN\n",
            "50 block_5_depthwise_relu\n",
            "51 block_5_project\n",
            "52 block_5_project_BN\n",
            "53 block_5_add\n",
            "54 block_6_expand\n",
            "55 block_6_expand_BN\n",
            "56 block_6_expand_relu\n",
            "57 block_6_pad\n",
            "58 block_6_depthwise\n",
            "59 block_6_depthwise_BN\n",
            "60 block_6_depthwise_relu\n",
            "61 block_6_project\n",
            "62 block_6_project_BN\n",
            "63 block_7_expand\n",
            "64 block_7_expand_BN\n",
            "65 block_7_expand_relu\n",
            "66 block_7_depthwise\n",
            "67 block_7_depthwise_BN\n",
            "68 block_7_depthwise_relu\n",
            "69 block_7_project\n",
            "70 block_7_project_BN\n",
            "71 block_7_add\n",
            "72 block_8_expand\n",
            "73 block_8_expand_BN\n",
            "74 block_8_expand_relu\n",
            "75 block_8_depthwise\n",
            "76 block_8_depthwise_BN\n",
            "77 block_8_depthwise_relu\n",
            "78 block_8_project\n",
            "79 block_8_project_BN\n",
            "80 block_8_add\n",
            "81 block_9_expand\n",
            "82 block_9_expand_BN\n",
            "83 block_9_expand_relu\n",
            "84 block_9_depthwise\n",
            "85 block_9_depthwise_BN\n",
            "86 block_9_depthwise_relu\n",
            "87 block_9_project\n",
            "88 block_9_project_BN\n",
            "89 block_9_add\n",
            "90 block_10_expand\n",
            "91 block_10_expand_BN\n",
            "92 block_10_expand_relu\n",
            "93 block_10_depthwise\n",
            "94 block_10_depthwise_BN\n",
            "95 block_10_depthwise_relu\n",
            "96 block_10_project\n",
            "97 block_10_project_BN\n",
            "98 block_11_expand\n",
            "99 block_11_expand_BN\n",
            "100 block_11_expand_relu\n",
            "101 block_11_depthwise\n",
            "102 block_11_depthwise_BN\n",
            "103 block_11_depthwise_relu\n",
            "104 block_11_project\n",
            "105 block_11_project_BN\n",
            "106 block_11_add\n",
            "107 block_12_expand\n",
            "108 block_12_expand_BN\n",
            "109 block_12_expand_relu\n",
            "110 block_12_depthwise\n",
            "111 block_12_depthwise_BN\n",
            "112 block_12_depthwise_relu\n",
            "113 block_12_project\n",
            "114 block_12_project_BN\n",
            "115 block_12_add\n",
            "116 block_13_expand\n",
            "117 block_13_expand_BN\n",
            "118 block_13_expand_relu\n",
            "119 block_13_pad\n",
            "120 block_13_depthwise\n",
            "121 block_13_depthwise_BN\n",
            "122 block_13_depthwise_relu\n",
            "123 block_13_project\n",
            "124 block_13_project_BN\n",
            "125 block_14_expand\n",
            "126 block_14_expand_BN\n",
            "127 block_14_expand_relu\n",
            "128 block_14_depthwise\n",
            "129 block_14_depthwise_BN\n",
            "130 block_14_depthwise_relu\n",
            "131 block_14_project\n",
            "132 block_14_project_BN\n",
            "133 block_14_add\n",
            "134 block_15_expand\n",
            "135 block_15_expand_BN\n",
            "136 block_15_expand_relu\n",
            "137 block_15_depthwise\n",
            "138 block_15_depthwise_BN\n",
            "139 block_15_depthwise_relu\n",
            "140 block_15_project\n",
            "141 block_15_project_BN\n",
            "142 block_15_add\n",
            "143 block_16_expand\n",
            "144 block_16_expand_BN\n",
            "145 block_16_expand_relu\n",
            "146 block_16_depthwise\n",
            "147 block_16_depthwise_BN\n",
            "148 block_16_depthwise_relu\n",
            "149 block_16_project\n",
            "150 block_16_project_BN\n",
            "151 Conv_1\n",
            "152 Conv_1_bn\n",
            "153 out_relu\n",
            "154 global_average_pooling2d_1\n",
            "155 dense_4\n",
            "156 dense_5\n",
            "157 dense_6\n",
            "158 dense_7\n"
          ]
        }
      ],
      "source": [
        "# MobileNetV2\n",
        "base_model_2=tf.keras.applications.MobileNetV2(weights='imagenet',include_top=False) #imports the mobilenet model and discards the last 1000 neuron layer.\n",
        "\n",
        "x=base_model_2.output\n",
        "x=tf.keras.layers.GlobalAveragePooling2D()(x)\n",
        "x=tf.keras.layers.Dense(1024,activation='relu')(x) #we add dense layers so that the model can learn more complex functions and classify for better results.\n",
        "x=tf.keras.layers.Dense(1024,activation='relu')(x) #dense layer 2\n",
        "x=tf.keras.layers.Dense(512,activation='relu')(x) #dense layer 3\n",
        "preds=tf.keras.layers.Dense(4,activation='softmax')(x) #final layer with softmax activation\n",
        "\n",
        "model_2=tf.keras.models.Model(inputs=base_model_2.input,outputs=preds)\n",
        "\n",
        "for i,layer in enumerate(model_2.layers):\n",
        "  print(i,layer.name)"
      ]
    },
    {
      "cell_type": "code",
      "execution_count": null,
      "metadata": {
        "id": "tR9ELXx1NDtX"
      },
      "outputs": [],
      "source": [
        "for layer in model_2.layers:\n",
        "    layer.trainable=False\n",
        "for layer in model_2.layers[-5:]:\n",
        "    layer.trainable=True"
      ]
    },
    {
      "cell_type": "code",
      "execution_count": null,
      "metadata": {
        "id": "rjrdHvzGNORW"
      },
      "outputs": [],
      "source": [
        "from tensorflow.keras.optimizers import RMSprop\n",
        "model_2.compile(optimizer=RMSprop(learning_rate=0.001),\n",
        "                loss='categorical_crossentropy',\n",
        "                metrics=['accuracy']) "
      ]
    },
    {
      "cell_type": "code",
      "execution_count": null,
      "metadata": {
        "colab": {
          "base_uri": "https://localhost:8080/"
        },
        "id": "E72p6gQRNQis",
        "outputId": "fbe8e0b4-c254-4b4b-bee2-e7e13b3bdba2"
      },
      "outputs": [
        {
          "name": "stdout",
          "output_type": "stream",
          "text": [
            "Epoch 1/15\n",
            "112/112 [==============================] - 35s 278ms/step - loss: 1.0653 - accuracy: 0.5487 - val_loss: 0.7523 - val_accuracy: 0.6446\n",
            "Epoch 2/15\n",
            "112/112 [==============================] - 27s 244ms/step - loss: 0.6902 - accuracy: 0.7009 - val_loss: 0.5828 - val_accuracy: 0.7464\n",
            "Epoch 3/15\n",
            "112/112 [==============================] - 27s 238ms/step - loss: 0.5832 - accuracy: 0.7446 - val_loss: 0.6269 - val_accuracy: 0.6946\n",
            "Epoch 4/15\n",
            "112/112 [==============================] - 28s 248ms/step - loss: 0.5241 - accuracy: 0.7746 - val_loss: 0.6052 - val_accuracy: 0.7143\n",
            "Epoch 5/15\n",
            "112/112 [==============================] - 28s 248ms/step - loss: 0.4882 - accuracy: 0.7942 - val_loss: 0.5629 - val_accuracy: 0.7375\n",
            "Epoch 6/15\n",
            "112/112 [==============================] - 33s 297ms/step - loss: 0.4774 - accuracy: 0.7991 - val_loss: 0.6840 - val_accuracy: 0.6929\n",
            "Epoch 7/15\n",
            "112/112 [==============================] - 29s 258ms/step - loss: 0.4335 - accuracy: 0.8147 - val_loss: 0.6220 - val_accuracy: 0.7464\n",
            "Epoch 8/15\n",
            "112/112 [==============================] - 28s 247ms/step - loss: 0.4225 - accuracy: 0.8161 - val_loss: 0.6926 - val_accuracy: 0.6946\n",
            "Epoch 9/15\n",
            "112/112 [==============================] - 28s 247ms/step - loss: 0.3849 - accuracy: 0.8388 - val_loss: 0.7833 - val_accuracy: 0.6607\n",
            "Epoch 10/15\n",
            "112/112 [==============================] - 28s 248ms/step - loss: 0.3767 - accuracy: 0.8518 - val_loss: 0.7892 - val_accuracy: 0.6857\n",
            "Epoch 11/15\n",
            "112/112 [==============================] - 27s 241ms/step - loss: 0.3717 - accuracy: 0.8527 - val_loss: 0.7276 - val_accuracy: 0.7429\n",
            "Epoch 12/15\n",
            "112/112 [==============================] - 28s 246ms/step - loss: 0.3537 - accuracy: 0.8540 - val_loss: 0.8173 - val_accuracy: 0.7304\n",
            "Epoch 13/15\n",
            "112/112 [==============================] - 28s 247ms/step - loss: 0.3451 - accuracy: 0.8612 - val_loss: 0.5716 - val_accuracy: 0.7482\n",
            "Epoch 14/15\n",
            "112/112 [==============================] - 27s 238ms/step - loss: 0.3245 - accuracy: 0.8701 - val_loss: 1.4434 - val_accuracy: 0.6696\n",
            "Epoch 15/15\n",
            "112/112 [==============================] - 34s 301ms/step - loss: 0.3108 - accuracy: 0.8687 - val_loss: 0.6866 - val_accuracy: 0.7321\n"
          ]
        }
      ],
      "source": [
        "history_2 = model_2.fit(train_generator,\n",
        "                    epochs=15,\n",
        "                    verbose=1,\n",
        "                    validation_data=test_generator)"
      ]
    },
    {
      "cell_type": "code",
      "execution_count": null,
      "metadata": {
        "id": "6Qf7_DTx5Wps"
      },
      "outputs": [],
      "source": [
        "path = \"/content/drive/MyDrive/Models/Glasses/\"\n",
        "filename = 'model_2.h5'\n",
        "model_2.save(path + filename)"
      ]
    },
    {
      "cell_type": "code",
      "execution_count": null,
      "metadata": {
        "colab": {
          "base_uri": "https://localhost:8080/"
        },
        "id": "mXdk2SSeG8BN",
        "outputId": "24ef646d-722a-48f9-c580-f5431d98c740"
      },
      "outputs": [
        {
          "output_type": "stream",
          "name": "stderr",
          "text": [
            "WARNING:tensorflow:`input_shape` is undefined or non-square, or `rows` is not in [96, 128, 160, 192, 224]. Weights for input shape (224, 224) will be loaded as the default.\n"
          ]
        },
        {
          "output_type": "stream",
          "name": "stdout",
          "text": [
            "Downloading data from https://storage.googleapis.com/tensorflow/keras-applications/mobilenet_v2/mobilenet_v2_weights_tf_dim_ordering_tf_kernels_1.0_224_no_top.h5\n",
            "9406464/9406464 [==============================] - 1s 0us/step\n"
          ]
        }
      ],
      "source": [
        "# Fine-tuned MobileNetV2\n",
        "base_model_2=tf.keras.applications.MobileNetV2(weights='imagenet',include_top=False) #imports the mobilenet model and discards the last 1000 neuron layer.\n",
        "\n",
        "x=base_model_2.output\n",
        "x=tf.keras.layers.GlobalAveragePooling2D()(x)\n",
        "x=tf.keras.layers.Dense(1024,activation='relu')(x) #we add dense layers so that the model can learn more complex functions and classify for better results.\n",
        "x=tf.keras.layers.Dense(1024,activation='relu')(x) #dense layer 2\n",
        "x=tf.keras.layers.Dense(512,activation='relu')(x) #dense layer 3\n",
        "preds=tf.keras.layers.Dense(4,activation='softmax')(x) #final layer with softmax activation\n",
        "\n",
        "model_3=tf.keras.models.Model(inputs=base_model_2.input,outputs=preds)"
      ]
    },
    {
      "cell_type": "code",
      "execution_count": null,
      "metadata": {
        "id": "SbNH78fZHIdC"
      },
      "outputs": [],
      "source": [
        "model_3.trainable = True\n",
        "for layer in model_3.layers[:100]:\n",
        "  layer.trainable =  False"
      ]
    },
    {
      "cell_type": "code",
      "execution_count": null,
      "metadata": {
        "colab": {
          "base_uri": "https://localhost:8080/"
        },
        "id": "pGkfy-UFHS_n",
        "outputId": "fffed99b-3839-463f-ba6e-c3461a5762f7"
      },
      "outputs": [
        {
          "output_type": "execute_result",
          "data": {
            "text/plain": [
              "154"
            ]
          },
          "metadata": {},
          "execution_count": 11
        }
      ],
      "source": [
        "len(base_model_2.layers)"
      ]
    },
    {
      "cell_type": "code",
      "execution_count": null,
      "metadata": {
        "id": "y1k9fSbnHfKB"
      },
      "outputs": [],
      "source": [
        "from tensorflow.keras.optimizers import RMSprop\n",
        "model_3.compile(optimizer=RMSprop(learning_rate=0.00001),\n",
        "                loss='categorical_crossentropy',\n",
        "                metrics=['accuracy']) "
      ]
    },
    {
      "cell_type": "code",
      "execution_count": null,
      "metadata": {
        "colab": {
          "base_uri": "https://localhost:8080/"
        },
        "id": "deFuN4tpHj1I",
        "outputId": "9c63c686-1474-442d-bcb9-261fc1ffefa9"
      },
      "outputs": [
        {
          "output_type": "stream",
          "name": "stdout",
          "text": [
            "Epoch 1/15\n",
            "112/112 [==============================] - 1360s 12s/step - loss: 1.0112 - accuracy: 0.6415 - val_loss: 1.3685 - val_accuracy: 0.2857\n",
            "Epoch 2/15\n",
            "112/112 [==============================] - 31s 274ms/step - loss: 0.6148 - accuracy: 0.8062 - val_loss: 1.2890 - val_accuracy: 0.2786\n",
            "Epoch 3/15\n",
            "112/112 [==============================] - 32s 283ms/step - loss: 0.4339 - accuracy: 0.8402 - val_loss: 1.2348 - val_accuracy: 0.3125\n",
            "Epoch 4/15\n",
            "112/112 [==============================] - 31s 276ms/step - loss: 0.3469 - accuracy: 0.8759 - val_loss: 1.2231 - val_accuracy: 0.3411\n",
            "Epoch 5/15\n",
            "112/112 [==============================] - 30s 271ms/step - loss: 0.2819 - accuracy: 0.9018 - val_loss: 1.2265 - val_accuracy: 0.3321\n",
            "Epoch 6/15\n",
            "112/112 [==============================] - 31s 279ms/step - loss: 0.2428 - accuracy: 0.9121 - val_loss: 1.1080 - val_accuracy: 0.4411\n",
            "Epoch 7/15\n",
            "112/112 [==============================] - 32s 284ms/step - loss: 0.1999 - accuracy: 0.9308 - val_loss: 1.0820 - val_accuracy: 0.4750\n",
            "Epoch 8/15\n",
            "112/112 [==============================] - 32s 284ms/step - loss: 0.1752 - accuracy: 0.9406 - val_loss: 0.9934 - val_accuracy: 0.5464\n",
            "Epoch 9/15\n",
            "112/112 [==============================] - 32s 284ms/step - loss: 0.1437 - accuracy: 0.9571 - val_loss: 1.0080 - val_accuracy: 0.5464\n",
            "Epoch 10/15\n",
            "112/112 [==============================] - 31s 280ms/step - loss: 0.1047 - accuracy: 0.9692 - val_loss: 0.9437 - val_accuracy: 0.5821\n",
            "Epoch 11/15\n",
            "112/112 [==============================] - 36s 323ms/step - loss: 0.0931 - accuracy: 0.9696 - val_loss: 0.8957 - val_accuracy: 0.6161\n",
            "Epoch 12/15\n",
            "112/112 [==============================] - 31s 277ms/step - loss: 0.0690 - accuracy: 0.9826 - val_loss: 0.7611 - val_accuracy: 0.6714\n",
            "Epoch 13/15\n",
            "112/112 [==============================] - 32s 282ms/step - loss: 0.0622 - accuracy: 0.9839 - val_loss: 0.7240 - val_accuracy: 0.7357\n",
            "Epoch 14/15\n",
            "112/112 [==============================] - 31s 275ms/step - loss: 0.0524 - accuracy: 0.9853 - val_loss: 0.7186 - val_accuracy: 0.7536\n",
            "Epoch 15/15\n",
            "112/112 [==============================] - 31s 281ms/step - loss: 0.0396 - accuracy: 0.9897 - val_loss: 0.6420 - val_accuracy: 0.7804\n"
          ]
        }
      ],
      "source": [
        "history_3 = model_3.fit(train_generator,\n",
        "                    epochs=15,\n",
        "                    verbose=1,\n",
        "                    validation_data=test_generator)"
      ]
    },
    {
      "cell_type": "code",
      "execution_count": null,
      "metadata": {
        "id": "Q6JHY_MwEwpE"
      },
      "outputs": [],
      "source": [
        "path = \"/content/drive/MyDrive/Models/Glasses/\"\n",
        "filename = 'model_3.h5'\n",
        "model_3.save(path + filename)"
      ]
    },
    {
      "cell_type": "code",
      "execution_count": null,
      "metadata": {
        "colab": {
          "base_uri": "https://localhost:8080/"
        },
        "id": "a1TDVM2bfs29",
        "outputId": "fd263396-41b4-4095-a141-8de2f8aa3cd8"
      },
      "outputs": [
        {
          "name": "stderr",
          "output_type": "stream",
          "text": [
            "WARNING:tensorflow:`input_shape` is undefined or non-square, or `rows` is not in [96, 128, 160, 192, 224]. Weights for input shape (224, 224) will be loaded as the default.\n"
          ]
        },
        {
          "name": "stdout",
          "output_type": "stream",
          "text": [
            "Downloading data from https://storage.googleapis.com/tensorflow/keras-applications/mobilenet_v2/mobilenet_v2_weights_tf_dim_ordering_tf_kernels_1.0_224_no_top.h5\n",
            "9406464/9406464 [==============================] - 2s 0us/step\n"
          ]
        }
      ],
      "source": [
        "# Fine-tuned MobileNetV2\n",
        "base_model_2=tf.keras.applications.MobileNetV2(weights='imagenet',include_top=False) #imports the mobilenet model and discards the last 1000 neuron layer.\n",
        "\n",
        "x=base_model_2.output\n",
        "x=tf.keras.layers.GlobalAveragePooling2D()(x)\n",
        "x=tf.keras.layers.Dense(1024,activation='relu')(x) #we add dense layers so that the model can learn more complex functions and classify for better results.\n",
        "x=tf.keras.layers.Dense(1024,activation='relu')(x) #dense layer 2\n",
        "x=tf.keras.layers.Dense(512,activation='relu')(x) #dense layer 3\n",
        "x = tf.keras.layers.Dropout(0.2)(x)\n",
        "preds=tf.keras.layers.Dense(4,activation='softmax')(x) #final layer with softmax activation\n",
        "\n",
        "model_4=tf.keras.models.Model(inputs=base_model_2.input,outputs=preds)"
      ]
    },
    {
      "cell_type": "code",
      "execution_count": null,
      "metadata": {
        "id": "RBUu1TVCgKv7"
      },
      "outputs": [],
      "source": [
        "model_4.trainable = True\n",
        "for layer in model_4.layers[:100]:\n",
        "  layer.trainable =  False"
      ]
    },
    {
      "cell_type": "code",
      "execution_count": null,
      "metadata": {
        "id": "pMtdbD2Ugtsx"
      },
      "outputs": [],
      "source": [
        "from tensorflow.keras.optimizers import RMSprop\n",
        "model_4.compile(optimizer=RMSprop(learning_rate=0.00001),\n",
        "                loss='categorical_crossentropy',\n",
        "                metrics=['accuracy']) "
      ]
    },
    {
      "cell_type": "code",
      "execution_count": null,
      "metadata": {
        "colab": {
          "background_save": true,
          "base_uri": "https://localhost:8080/"
        },
        "id": "8QAoTnH8gw1O",
        "outputId": "00c730bb-a533-487f-91e3-b34af9d63a89"
      },
      "outputs": [
        {
          "name": "stdout",
          "output_type": "stream",
          "text": [
            "Epoch 1/15\n",
            "112/112 [==============================] - 929s 8s/step - loss: 1.0866 - accuracy: 0.5594 - val_loss: 1.3114 - val_accuracy: 0.3893\n",
            "Epoch 2/15\n",
            "112/112 [==============================] - 879s 8s/step - loss: 0.6834 - accuracy: 0.7554 - val_loss: 1.2939 - val_accuracy: 0.3500\n",
            "Epoch 3/15\n",
            "112/112 [==============================] - 895s 8s/step - loss: 0.4933 - accuracy: 0.8188 - val_loss: 1.1965 - val_accuracy: 0.4107\n",
            "Epoch 4/15\n",
            "112/112 [==============================] - 890s 8s/step - loss: 0.3871 - accuracy: 0.8589 - val_loss: 1.1206 - val_accuracy: 0.4607\n",
            "Epoch 5/15\n",
            "112/112 [==============================] - 886s 8s/step - loss: 0.3088 - accuracy: 0.8871 - val_loss: 1.0863 - val_accuracy: 0.4857\n",
            "Epoch 6/15\n",
            "112/112 [==============================] - 896s 8s/step - loss: 0.2735 - accuracy: 0.8924 - val_loss: 0.9969 - val_accuracy: 0.5625\n",
            "Epoch 7/15\n",
            "112/112 [==============================] - 890s 8s/step - loss: 0.2340 - accuracy: 0.9165 - val_loss: 0.9264 - val_accuracy: 0.6054\n",
            "Epoch 8/15\n",
            "112/112 [==============================] - 881s 8s/step - loss: 0.1928 - accuracy: 0.9330 - val_loss: 0.9435 - val_accuracy: 0.6214\n",
            "Epoch 9/15\n",
            "112/112 [==============================] - 859s 8s/step - loss: 0.1817 - accuracy: 0.9353 - val_loss: 0.8923 - val_accuracy: 0.6429\n",
            "Epoch 10/15\n",
            "112/112 [==============================] - 896s 8s/step - loss: 0.1406 - accuracy: 0.9518 - val_loss: 0.7603 - val_accuracy: 0.6661\n",
            "Epoch 11/15\n",
            "112/112 [==============================] - 903s 8s/step - loss: 0.1103 - accuracy: 0.9679 - val_loss: 0.8184 - val_accuracy: 0.6714\n",
            "Epoch 12/15\n",
            "112/112 [==============================] - 913s 8s/step - loss: 0.0957 - accuracy: 0.9746 - val_loss: 0.8186 - val_accuracy: 0.6607\n",
            "Epoch 13/15\n",
            "112/112 [==============================] - 901s 8s/step - loss: 0.0749 - accuracy: 0.9786 - val_loss: 0.7305 - val_accuracy: 0.6946\n",
            "Epoch 14/15\n",
            "112/112 [==============================] - 906s 8s/step - loss: 0.0519 - accuracy: 0.9866 - val_loss: 0.7552 - val_accuracy: 0.7107\n",
            "Epoch 15/15\n",
            "112/112 [==============================] - 843s 8s/step - loss: 0.0477 - accuracy: 0.9879 - val_loss: 0.7171 - val_accuracy: 0.7286\n"
          ]
        }
      ],
      "source": [
        "history_4 = model_4.fit(train_generator,\n",
        "                    epochs=15,\n",
        "                    verbose=1,\n",
        "                    validation_data=test_generator)"
      ]
    }
  ],
  "metadata": {
    "accelerator": "GPU",
    "colab": {
      "provenance": []
    },
    "kernelspec": {
      "display_name": "Python 3",
      "name": "python3"
    },
    "language_info": {
      "name": "python"
    }
  },
  "nbformat": 4,
  "nbformat_minor": 0
}